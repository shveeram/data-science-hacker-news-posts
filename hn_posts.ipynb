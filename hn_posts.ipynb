{
 "cells": [
  {
   "cell_type": "markdown",
   "metadata": {
    "collapsed": true
   },
   "source": [
    "# Hacker news: Analysis of posts\n",
    "\n",
    "## About:\n",
    "Hacker news is a website extremely populer in technology and startup circles. User-submitted stories (known as \"posts\") are voted and commented upon by the site visitors.\n",
    "\n",
    "We're specifically interested in posts whose titles begin with either **`Ask HN`** or **`Show HN`**. \n",
    "\n",
    "* Users submit **`Ask HN`** posts to ask the Hacker News community a specific question.\n",
    "* Users submit **`Show HN`** posts to show the Hacker News community a project, product, or just generally something interesting.\n",
    "\n",
    "## Goal:\n",
    "Our goal in this project is:\n",
    "   1. To compare the *Ask* and *Show* posts of the Hacker news data set and see which of the two receive most comments?\n",
    "   2. To perform an analysis based on certain time the post was made to determine if that had a bearing on higher comments made for the post?\n",
    "\n",
    "\n",
    "## Data set:\n",
    "\n",
    "Data set for this project can be download from [here](https://www.kaggle.com/hacker-news/hacker-news-posts).\n",
    "\n",
    "**Note**: The data set has been reduced from almost 300,000 rows to approximately 20,000 rows by removing all submissions that did not receive any comments, and then randomly sampling from the remaining submissions.\n",
    "\n",
    "Below are descriptions of the columns:\n",
    "\n",
    "* `id`: The unique identifier from Hacker News for the post\n",
    "* `title`: The title of the post\n",
    "* `url`: The URL that the posts links to, if it the post has a URL\n",
    "* `num_points`: The number of points the post acquired, calculated as the total number of upvotes minus the total number of downvotes\n",
    "* `num_comments`: The number of comments that were made on the post\n",
    "* `author`: The username of the person who submitted the post\n",
    "* `created_at`: The date and time at which the post was submitted\n",
    "\n",
    "Below, let's look at a few rows from the data set to understand the how its presented."
   ]
  },
  {
   "cell_type": "code",
   "execution_count": 1,
   "metadata": {
    "collapsed": false
   },
   "outputs": [
    {
     "name": "stdout",
     "output_type": "stream",
     "text": [
      "Total number of posts: 20100 \n",
      "\n",
      "['id', 'title', 'url', 'num_points', 'num_comments', 'author', 'created_at']\n",
      "--------------------------------------------------------------------------- \n",
      "\n",
      "['12224879', 'Interactive Dynamic Video', 'http://www.interactivedynamicvideo.com/', '386', '52', 'ne0phyte', '8/4/2016 11:52'] \n",
      "\n",
      "['10975351', 'How to Use Open Source and Shut the Fuck Up at the Same Time', 'http://hueniverse.com/2016/01/26/how-to-use-open-source-and-shut-the-fuck-up-at-the-same-time/', '39', '10', 'josep2', '1/26/2016 19:30'] \n",
      "\n",
      "['11964716', \"Florida DJs May Face Felony for April Fools' Water Joke\", 'http://www.thewire.com/entertainment/2013/04/florida-djs-april-fools-water-joke/63798/', '2', '1', 'vezycash', '6/23/2016 22:20'] \n",
      "\n",
      "['11919867', 'Technology ventures: From Idea to Enterprise', 'https://www.amazon.com/Technology-Ventures-Enterprise-Thomas-Byers/dp/0073523429', '3', '1', 'hswarna', '6/17/2016 0:01'] \n",
      "\n",
      "['10301696', 'Note by Note: The Making of Steinway L1037 (2007)', 'http://www.nytimes.com/2007/11/07/movies/07stein.html?_r=0', '8', '2', 'walterbell', '9/30/2015 4:12'] \n",
      "\n"
     ]
    }
   ],
   "source": [
    "from csv import reader\n",
    "hn_file = open('hacker_news.csv')\n",
    "hn_read = reader(hn_file)\n",
    "hn = list(hn_read)\n",
    "headers = hn[0]\n",
    "hn = hn[1:]\n",
    "\n",
    "print('Total number of posts:',len(hn),'\\n')\n",
    "print(headers)\n",
    "print('-' * 75,'\\n')\n",
    "for post in hn[0:5]:\n",
    "    print(post,'\\n')"
   ]
  },
  {
   "cell_type": "markdown",
   "metadata": {},
   "source": [
    "## Data filtering:\n",
    "\n",
    "As explained in the beginning of the project, we're only concerned with post titles beginning with **Ask HN** or **Show HN**\n",
    "\n",
    "In the section below, we will seperate the posts in the data set on that basis.\n",
    "\n",
    "* `ask_posts`: List of data containing only the **Ask HN** posts\n",
    "* `show_posts`: List of data containing only the **Show HN** posts\n",
    "* `other_posts`: List of data containing posts other than the above two"
   ]
  },
  {
   "cell_type": "code",
   "execution_count": 2,
   "metadata": {
    "collapsed": false
   },
   "outputs": [
    {
     "name": "stdout",
     "output_type": "stream",
     "text": [
      "Number of Ask HN posts: 1744\n",
      "Number of Show HN posts: 1162\n",
      "Number of other posts: 17194\n"
     ]
    }
   ],
   "source": [
    "ask_posts = []\n",
    "show_posts = []\n",
    "other_posts = []\n",
    "\n",
    "for post in hn:\n",
    "    title = post[1]\n",
    "    if (title.lower()).startswith('ask hn'):\n",
    "        ask_posts.append(post)\n",
    "    elif (title.lower()).startswith('show hn'):\n",
    "        show_posts.append(post)\n",
    "    else:\n",
    "        other_posts.append(post)\n",
    "\n",
    "print('Number of Ask HN posts:',len(ask_posts))\n",
    "print('Number of Show HN posts:',len(show_posts))\n",
    "print('Number of other posts:',len(other_posts))"
   ]
  },
  {
   "cell_type": "markdown",
   "metadata": {
    "collapsed": true
   },
   "source": [
    "## Data analysis:\n",
    "\n",
    "### Step 1: Comments - Ask HN vs Show HN posts"
   ]
  },
  {
   "cell_type": "code",
   "execution_count": 3,
   "metadata": {
    "collapsed": false
   },
   "outputs": [
    {
     "name": "stdout",
     "output_type": "stream",
     "text": [
      "***** Ask Posts *****\n",
      "Total posts =  1744\n",
      "Total comments =  24483\n",
      "Average comments =  14.038417431192661\n",
      "\n",
      " Number of posts by Comment ranges\n",
      "a: 1 - 5 comments : 1083 posts\n",
      "b: 6 - 10 comments : 305 posts\n",
      "c: 10+ comments : 356 posts\n",
      "\n",
      "\n",
      "***** Show Posts *****\n",
      "Total posts =  1162\n",
      "Total comments =  11988\n",
      "Average comments =  10.31669535283993\n",
      "\n",
      " Number of posts by Comment ranges\n",
      "a: 1 - 5 comments : 820 posts\n",
      "b: 6 - 10 comments : 110 posts\n",
      "c: 10+ comments : 232 posts\n"
     ]
    }
   ],
   "source": [
    "total_ask_comments = 0\n",
    "avg_ask_comments = 0\n",
    "total_ask_posts = len(ask_posts)\n",
    "ask_freq_table = {}\n",
    "\n",
    "def get_range(num_comments):    \n",
    "    if num_comments >= 1 and num_comments <=5:\n",
    "        comments_range = 'a: 1 - 5 comments'\n",
    "    elif num_comments > 5 and num_comments <=10:\n",
    "        comments_range = 'b: 6 - 10 comments'\n",
    "    else:\n",
    "        comments_range = 'c: 10+ comments'\n",
    "    return comments_range\n",
    "\n",
    "def display_comment_range(freq_table):    \n",
    "    print('\\n','Number of posts by Comment ranges')\n",
    "    for bucket in sorted(freq_table):\n",
    "        print(bucket,':',freq_table[bucket],'posts')\n",
    "\n",
    "for post in ask_posts:\n",
    "    num_comments = int(post[4])\n",
    "    total_ask_comments += num_comments\n",
    "    comments_range = get_range(num_comments)    \n",
    "    if comments_range not in ask_freq_table:\n",
    "        ask_freq_table[comments_range] = 1\n",
    "    else:\n",
    "        ask_freq_table[comments_range] += 1        \n",
    "avg_ask_comments = total_ask_comments/total_ask_posts\n",
    "\n",
    "total_show_comments = 0\n",
    "avg_show_comments = 0\n",
    "total_show_posts = len(show_posts)\n",
    "show_freq_table = {}\n",
    "for post in show_posts:\n",
    "    num_comments = int(post[4])\n",
    "    total_show_comments += num_comments\n",
    "    comments_range = get_range(num_comments)    \n",
    "    if comments_range not in show_freq_table:\n",
    "        show_freq_table[comments_range] = 1\n",
    "    else:\n",
    "        show_freq_table[comments_range] += 1\n",
    "avg_show_comments = total_show_comments/total_show_posts\n",
    "\n",
    "print('*' * 5,'Ask Posts', '*'*5)\n",
    "print('Total posts = ',total_ask_posts)\n",
    "print('Total comments = ',total_ask_comments)\n",
    "print('Average comments = ',avg_ask_comments)\n",
    "display_comment_range(ask_freq_table)\n",
    "print('\\n')\n",
    "print('*' * 5,'Show Posts', '*'*5)\n",
    "print('Total posts = ',total_show_posts)\n",
    "print('Total comments = ',total_show_comments)\n",
    "print('Average comments = ',avg_show_comments)\n",
    "display_comment_range(show_freq_table)"
   ]
  },
  {
   "cell_type": "markdown",
   "metadata": {},
   "source": [
    "From the results above, we see that:\n",
    "* After our data filtering, there are 1,744 \"`Ask HN`\" posts and 1,162 \"`Show HN`\" posts\n",
    "* Across their respective posts, there are 24,483 comments for \"`Ask HN`\" posts and 11,988 comments for \"`Show HN`\" posts\n",
    "* On an average \"`Ask HN`\" posts have ~14 comments and \"`Show HN`\" posts have ~10 comments\n",
    "\n",
    "We conclude that:\n",
    "\n",
    "> On an average **Ask HN** posts receive more comments than the **Show HN** posts"
   ]
  },
  {
   "cell_type": "markdown",
   "metadata": {},
   "source": [
    "### Step 2: Analyse the number of posts and total comments by the hour created\n",
    "\n",
    "We will now see the number of posts made and total number of comments received based on the hour of the day the post was created (Based on the `created_at` column). We will do this on both `Ask HN` and `Show HN` posts.\n",
    "\n",
    "**Note**: According to the data set [documentation](https://www.kaggle.com/hacker-news/hacker-news-posts/home), the timezone used is Eastern Time in the US.\n",
    "\n",
    "We check based on the hour of the day post was made (Sorted - Highest first):\n",
    "1. What are the total posts made in the hour of the day\n",
    "2. What are the total comments received across all posts made in the hour of the day\n",
    "\n",
    "Before we display the data, we will prepare our reusable code unit in the next block."
   ]
  },
  {
   "cell_type": "code",
   "execution_count": 4,
   "metadata": {
    "collapsed": false
   },
   "outputs": [],
   "source": [
    "import datetime as dt\n",
    "\n",
    "# Slice by the time hour - To get number of posts and total comments in that hour\n",
    "def freq_table_time(input_list):\n",
    "    result_dict = {}\n",
    "    date_format = \"%m/%d/%Y %H:%M\"\n",
    "    for post in input_list:\n",
    "        created = dt.datetime.strptime(post[-1],date_format)\n",
    "        created_hour = created.strftime(\"%H\")\n",
    "        num_comments = int(post[4])\n",
    "        if created_hour not in result_dict:\n",
    "            result_dict[created_hour] = [num_comments]\n",
    "        else:\n",
    "            result_dict[created_hour].append(num_comments)\n",
    "    return result_dict\n",
    "\n",
    "def display_by_hour(input_list, post_type):\n",
    "    input_dict = freq_table_time(input_list)\n",
    "    posts_by_hour = {}     \n",
    "    comments_by_hour = {}\n",
    "    avg_comments_by_hour = {}\n",
    "    for k,v in input_dict.items():\n",
    "        total_comments = sum(v)\n",
    "        total_posts = len(v)\n",
    "        posts_by_hour[k] = total_posts\n",
    "        comments_by_hour[k] = total_comments\n",
    "        avg_comments_by_hour[k] = (total_comments/total_posts)\n",
    "    \n",
    "    print('*' * 5,post_type,'Posts by hour - Highest first','*' * 5,'\\n')        \n",
    "    output_str_frmt = \"{}: {} posts\"\n",
    "    for hour in sorted(posts_by_hour, key=posts_by_hour.get, reverse = True):    \n",
    "        print(output_str_frmt.format(dt.datetime.strptime(hour, \"%H\").strftime(\"%H:%M\"),posts_by_hour[hour]))\n",
    "    print('\\n')\n",
    "    print('*' * 5,post_type,'Comments by hour - Highest first','*' * 5,'\\n')\n",
    "    output_str_frmt = \"{}: {} comments\"\n",
    "    for hour in sorted(comments_by_hour, key=comments_by_hour.get, reverse = True):\n",
    "        print(output_str_frmt.format(dt.datetime.strptime(hour, \"%H\").strftime(\"%H:%M\"),comments_by_hour[hour]))\n",
    "    return avg_comments_by_hour"
   ]
  },
  {
   "cell_type": "markdown",
   "metadata": {},
   "source": [
    "#### Ask HN Posts:"
   ]
  },
  {
   "cell_type": "code",
   "execution_count": 5,
   "metadata": {
    "collapsed": false
   },
   "outputs": [
    {
     "name": "stdout",
     "output_type": "stream",
     "text": [
      "***** Ask HN Posts by hour - Highest first ***** \n",
      "\n",
      "15:00: 116 posts\n",
      "19:00: 110 posts\n",
      "18:00: 109 posts\n",
      "21:00: 109 posts\n",
      "16:00: 108 posts\n",
      "14:00: 107 posts\n",
      "17:00: 100 posts\n",
      "13:00: 85 posts\n",
      "20:00: 80 posts\n",
      "12:00: 73 posts\n",
      "22:00: 71 posts\n",
      "23:00: 68 posts\n",
      "01:00: 60 posts\n",
      "10:00: 59 posts\n",
      "11:00: 58 posts\n",
      "02:00: 58 posts\n",
      "00:00: 55 posts\n",
      "03:00: 54 posts\n",
      "08:00: 48 posts\n",
      "04:00: 47 posts\n",
      "05:00: 46 posts\n",
      "09:00: 45 posts\n",
      "06:00: 44 posts\n",
      "07:00: 34 posts\n",
      "\n",
      "\n",
      "***** Ask HN Comments by hour - Highest first ***** \n",
      "\n",
      "15:00: 4477 comments\n",
      "16:00: 1814 comments\n",
      "21:00: 1745 comments\n",
      "20:00: 1722 comments\n",
      "18:00: 1439 comments\n",
      "14:00: 1416 comments\n",
      "02:00: 1381 comments\n",
      "13:00: 1253 comments\n",
      "19:00: 1188 comments\n",
      "17:00: 1146 comments\n",
      "10:00: 793 comments\n",
      "12:00: 687 comments\n",
      "01:00: 683 comments\n",
      "11:00: 641 comments\n",
      "23:00: 543 comments\n",
      "08:00: 492 comments\n",
      "22:00: 479 comments\n",
      "05:00: 464 comments\n",
      "00:00: 447 comments\n",
      "03:00: 421 comments\n",
      "06:00: 397 comments\n",
      "04:00: 337 comments\n",
      "07:00: 267 comments\n",
      "09:00: 251 comments\n"
     ]
    }
   ],
   "source": [
    "ask_avg_comments_by_hour = display_by_hour(ask_posts, 'Ask HN')"
   ]
  },
  {
   "cell_type": "markdown",
   "metadata": {},
   "source": [
    "#### Show HN Posts:"
   ]
  },
  {
   "cell_type": "code",
   "execution_count": 6,
   "metadata": {
    "collapsed": false
   },
   "outputs": [
    {
     "name": "stdout",
     "output_type": "stream",
     "text": [
      "***** Show HN Posts by hour - Highest first ***** \n",
      "\n",
      "13:00: 99 posts\n",
      "17:00: 93 posts\n",
      "16:00: 93 posts\n",
      "14:00: 86 posts\n",
      "15:00: 78 posts\n",
      "12:00: 61 posts\n",
      "18:00: 61 posts\n",
      "20:00: 60 posts\n",
      "19:00: 55 posts\n",
      "21:00: 47 posts\n",
      "22:00: 46 posts\n",
      "11:00: 44 posts\n",
      "10:00: 36 posts\n",
      "23:00: 36 posts\n",
      "08:00: 34 posts\n",
      "00:00: 31 posts\n",
      "09:00: 30 posts\n",
      "02:00: 30 posts\n",
      "01:00: 28 posts\n",
      "03:00: 27 posts\n",
      "07:00: 26 posts\n",
      "04:00: 26 posts\n",
      "05:00: 19 posts\n",
      "06:00: 16 posts\n",
      "\n",
      "\n",
      "***** Show HN Comments by hour - Highest first ***** \n",
      "\n",
      "14:00: 1156 comments\n",
      "16:00: 1084 comments\n",
      "18:00: 962 comments\n",
      "13:00: 946 comments\n",
      "17:00: 911 comments\n",
      "12:00: 720 comments\n",
      "15:00: 632 comments\n",
      "20:00: 612 comments\n",
      "22:00: 570 comments\n",
      "19:00: 539 comments\n",
      "11:00: 491 comments\n",
      "00:00: 487 comments\n",
      "23:00: 447 comments\n",
      "07:00: 299 comments\n",
      "10:00: 297 comments\n",
      "09:00: 291 comments\n",
      "03:00: 287 comments\n",
      "21:00: 272 comments\n",
      "04:00: 247 comments\n",
      "01:00: 246 comments\n",
      "08:00: 165 comments\n",
      "06:00: 142 comments\n",
      "02:00: 127 comments\n",
      "05:00: 58 comments\n"
     ]
    }
   ],
   "source": [
    "show_avg_comments_by_hour = display_by_hour(show_posts, 'Show HN')"
   ]
  },
  {
   "cell_type": "markdown",
   "metadata": {},
   "source": [
    "### Step 3: Average Number of Comments for Ask HN Posts by Hour\n",
    "\n",
    "In the previous step, we display the number of posts and total comments by the hour for both `Ask HN` and `Shown HN` posts.\n",
    "\n",
    "Also through the code block above we calculated the average number of comments for both `Ask HN` and `Shown HN` posts and stored in the dictionaries `ask_avg_comments_by_hour` and `show_avg_comments_by_hour`.\n",
    "\n",
    "Let's now review that data.\n",
    "\n",
    "#### Ask HN Posts:"
   ]
  },
  {
   "cell_type": "code",
   "execution_count": 7,
   "metadata": {
    "collapsed": false
   },
   "outputs": [
    {
     "name": "stdout",
     "output_type": "stream",
     "text": [
      "***** Ask HN Posts: Average number of comments by hour - Highest first ***** \n",
      "\n",
      "15:00: 38.59 average comments per post\n",
      "02:00: 23.81 average comments per post\n",
      "20:00: 21.52 average comments per post\n",
      "16:00: 16.80 average comments per post\n",
      "21:00: 16.01 average comments per post\n",
      "13:00: 14.74 average comments per post\n",
      "10:00: 13.44 average comments per post\n",
      "14:00: 13.23 average comments per post\n",
      "18:00: 13.20 average comments per post\n",
      "17:00: 11.46 average comments per post\n",
      "01:00: 11.38 average comments per post\n",
      "11:00: 11.05 average comments per post\n",
      "19:00: 10.80 average comments per post\n",
      "08:00: 10.25 average comments per post\n",
      "05:00: 10.09 average comments per post\n",
      "12:00: 9.41 average comments per post\n",
      "06:00: 9.02 average comments per post\n",
      "00:00: 8.13 average comments per post\n",
      "23:00: 7.99 average comments per post\n",
      "07:00: 7.85 average comments per post\n",
      "03:00: 7.80 average comments per post\n",
      "04:00: 7.17 average comments per post\n",
      "22:00: 6.75 average comments per post\n",
      "09:00: 5.58 average comments per post\n",
      "\n",
      "\n"
     ]
    }
   ],
   "source": [
    "print('*' * 5,'Ask HN Posts: Average number of comments by hour - Highest first','*' * 5,'\\n')\n",
    "output_str_frmt = \"{}: {:.2f} average comments per post\"\n",
    "for hour in sorted(ask_avg_comments_by_hour, key=ask_avg_comments_by_hour.get, reverse = True):    \n",
    "    print(output_str_frmt.format(dt.datetime.strptime(hour, \"%H\").strftime(\"%H:%M\"),ask_avg_comments_by_hour[hour]))\n",
    "print('\\n')"
   ]
  },
  {
   "cell_type": "markdown",
   "metadata": {},
   "source": [
    "From the above analysis, the hour\\(*) that receives the most comments per post on average is 15:00 (3 pm EST), with an average of 38.59 comments per post. \n",
    "\n",
    "The 2nd best hour\\(*) that receives the most comments per post on average is 13:00 (1 pm EST), with an average of 22.22 comments per post.\n",
    "\n",
    "**\\(*)** The timezone used is Eastern Time in the US so 15:00 hours is 03:00 pm EST"
   ]
  },
  {
   "cell_type": "markdown",
   "metadata": {},
   "source": [
    "#### Show HN Posts:"
   ]
  },
  {
   "cell_type": "code",
   "execution_count": 8,
   "metadata": {
    "collapsed": false
   },
   "outputs": [
    {
     "name": "stdout",
     "output_type": "stream",
     "text": [
      "***** Show HN Posts: Average number of comments by hour - Highest first ***** \n",
      "\n",
      "18:00: 15.77 average comments per post\n",
      "00:00: 15.71 average comments per post\n",
      "14:00: 13.44 average comments per post\n",
      "23:00: 12.42 average comments per post\n",
      "22:00: 12.39 average comments per post\n",
      "12:00: 11.80 average comments per post\n",
      "16:00: 11.66 average comments per post\n",
      "07:00: 11.50 average comments per post\n",
      "11:00: 11.16 average comments per post\n",
      "03:00: 10.63 average comments per post\n",
      "20:00: 10.20 average comments per post\n",
      "19:00: 9.80 average comments per post\n",
      "17:00: 9.80 average comments per post\n",
      "09:00: 9.70 average comments per post\n",
      "13:00: 9.56 average comments per post\n",
      "04:00: 9.50 average comments per post\n",
      "06:00: 8.88 average comments per post\n",
      "01:00: 8.79 average comments per post\n",
      "10:00: 8.25 average comments per post\n",
      "15:00: 8.10 average comments per post\n",
      "21:00: 5.79 average comments per post\n",
      "08:00: 4.85 average comments per post\n",
      "02:00: 4.23 average comments per post\n",
      "05:00: 3.05 average comments per post\n",
      "\n",
      "\n"
     ]
    }
   ],
   "source": [
    "print('*' * 5,'Show HN Posts: Average number of comments by hour - Highest first','*' * 5,'\\n')\n",
    "output_str_frmt = \"{}: {:.2f} average comments per post\"\n",
    "for hour in sorted(show_avg_comments_by_hour, key=show_avg_comments_by_hour.get, reverse = True):    \n",
    "    print(output_str_frmt.format(dt.datetime.strptime(hour, \"%H\").strftime(\"%H:%M\"),show_avg_comments_by_hour[hour]))\n",
    "print('\\n')"
   ]
  },
  {
   "cell_type": "markdown",
   "metadata": {},
   "source": [
    "For `Show HN` posts however, purely by looking at the average number of comments per post is not very conclusive as the total number of posts and in turn the comments have both got the same linear reduction/increase factor.\n",
    "\n",
    "So by taking the average number of comments per post and overlaying it on the total number of posts, total number of comments by the hour - We see the hour\\(*) that receives the most comments for the posts and a better average number of comments per post is 14:00 (2 pm EST), with an average of 13.44 comments per post (which is not the highest) but with 1,156 comments over 86 posts it can be concluded as a better hour for `Show HN` posts.\n",
    "\n",
    "**\\(*)** The timezone used is Eastern Time in the US so 14:00 hours is 02:00 pm EST"
   ]
  },
  {
   "cell_type": "markdown",
   "metadata": {},
   "source": [
    "## Conclusion:\n",
    "\n",
    "From the above data analysis we conclude the following on our goals we initially set out for this project:\n",
    "\n",
    "* Ask HN vs Show HN posts - Popularity by comments engagement\n",
    "\n",
    "   > **Ask HN** posts are popular by comments engagement with an average Ask HN posts have ~14 comments per post\n",
    "\n",
    "* Best hour for posts based on comments received\n",
    "     \n",
    "   > **For Ask HN**: Is between ~15:00 - 16:00 (3-4 pm EST), with an average of 38.59 comments per post\n",
    "   \n",
    "   > **For Show HN**: Is between ~14:00 - 15:00 (2-3 pm EST), with an average of 13.44 comments per post (Total of 1,156 comments over 86 posts)"
   ]
  }
 ],
 "metadata": {
  "kernelspec": {
   "display_name": "Python 3",
   "language": "python",
   "name": "python3"
  },
  "language_info": {
   "codemirror_mode": {
    "name": "ipython",
    "version": 3
   },
   "file_extension": ".py",
   "mimetype": "text/x-python",
   "name": "python",
   "nbconvert_exporter": "python",
   "pygments_lexer": "ipython3",
   "version": "3.4.3"
  }
 },
 "nbformat": 4,
 "nbformat_minor": 2
}
